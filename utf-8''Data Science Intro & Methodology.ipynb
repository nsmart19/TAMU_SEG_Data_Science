{
  "cells": [
    {
      "metadata": {},
      "cell_type": "markdown",
      "source": "<img src=\"https://images.unsplash.com/photo-1527474305487-b87b222841cc?ixlib=rb-1.2.1&ixid=eyJhcHBfaWQiOjEyMDd9&auto=format&fit=crop&w=1267&q=80\" alt=\"alt\" width=\"750\"/>\n\n# What is Data Science?\n\n## Application of statistics and Machine Learning techniques to make sense of data. Data scientists collect, process, analyse, and visualize large datasets.\n\n# Traditional Scientific Method\n\n<img src=\"https://i.pinimg.com/originals/f0/46/19/f04619e0047aa39a2a3113f49a853667.png\" alt=\"alt\" width=\"500\"/>\n\n# Data Science Methodology\n\n<img src=\"http://www.ibmbigdatahub.com/sites/default/files/figure01_revised.jpg\" alt=\"alt\" width=\"500\"/>\n\n1.   **Business Understanding**\n  * Every data science project, regardless of industry or size, needs to begin with comprehensive understanding of business need. \n  * Beginning each problem with this simple question, *“What problem are we trying to solve?”*, provides reliable foundation of a repeatable process that will be key to fruitful resolution of business problems.\n  * Business sponsors requesting the analytical solution are crucial to the success of the overall solution.\n  * This business-to-technical translation is often cumbersome but is critical to success.\n  \n3.   **Analytic Approach**\n  * Once a business problem has been identified, an analytic approach can begin.  \n  * To begin, the problem must be addressed in the context of domain experience, statistical understanding, and machine learning curiosity.\n  * Domain experience, or subject specialization (Environmental Sciences, Geology, Geophysics, Meteorology, etc.) determines requirements for statistical and machine learning modeling that are suitable to accomplishing a desired outcome.\n3.   **Data Requirements**\n  *  Depending on the analytical approach determined in the previous step, data content, format, and volume will be decided accordingly.\n  *  Data requirements must align with the business problem that needs to be solved. Again, this entire process is guided by domain knowledge.\n4.   **Data Collection**\n  * Data resources are gathered - structured, unstructured, partially-structured – that pertain to the domain of the problem. \n  * Workflow may be revised at any time to amend data requirements and / or include more data if there is not enough information.\n5.   **Data Understanding**\n  *  Descriptive statistics and visualization practices provide initial comprehension of datasets collected.\n  *  These techniques allow a data scientist to understand content, quality of data, and begin to extract insights from data.\n    * If necessary, additional data collection may be required.\n6.   **Data Preparation**\n  *  Cleansing, combining, and transforming datasets into a usable format is critical to the overall success of a data science project.\n  *  Feature engineering and text analytics can improve a model’s overall accuracy by deriving additional structured variables.\n  *  This step is by far the most time consuming.\n7.   **Modeling**\n  *  Following data preparation, a data scientist uses this idealized dataset as a training set to begin iterative modeling.\n  * A training set is used in combination with predictive and / or descriptive analytics to investigate dependencies between values within our dataset. \n8.   **Evaluation**\n  *  Quality assurance and control verify whether the business problem has been fully and addressed.\n  * Predictive modelling may be used as a tool, producing additional outputs such tables and graphs.\n9.   **Deployment**\n  *  Once a fitting model is produced and verified by the business sponsor, it is deployed to a production environment.\n  * Deploying a model into the operational business process involves multiple disciplines, groups, and techniques. \n10.   **Feedback**\n  *  This final stage of the process is often overlooked but can yield substantial benefits if properly leveraged.\n  *  By obtaining results from the implemented model, the whole organization receives feedback on the model’s wholistic performance and relates analytical observations to concrete impact on business environment. \n  * Receiving businesses feedback enables the data scientist to better align with the business. ",
      "attachments": {}
    },
    {
      "metadata": {},
      "cell_type": "markdown",
      "source": "This notebook was developed by Nick Smart for educational purposes. For additional information, please see the following links:\n\n* https://www.ibmbigdatahub.com/blog/why-we-need-methodology-data-science"
    }
  ],
  "metadata": {
    "kernelspec": {
      "name": "python36",
      "display_name": "Python 3.6",
      "language": "python"
    },
    "language_info": {
      "mimetype": "text/x-python",
      "nbconvert_exporter": "python",
      "name": "python",
      "pygments_lexer": "ipython3",
      "version": "3.6.6",
      "file_extension": ".py",
      "codemirror_mode": {
        "version": 3,
        "name": "ipython"
      }
    }
  },
  "nbformat": 4,
  "nbformat_minor": 1
}